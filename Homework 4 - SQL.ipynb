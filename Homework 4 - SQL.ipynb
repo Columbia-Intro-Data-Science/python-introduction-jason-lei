{
 "cells": [
  {
   "cell_type": "markdown",
   "metadata": {},
   "source": [
    "1) Give a count of all videos currently out."
   ]
  },
  {
   "cell_type": "code",
   "execution_count": 1,
   "metadata": {
    "collapsed": false
   },
   "outputs": [],
   "source": [
    "# SELECT count(*)\n",
    "# FROM rental R\n",
    "# WHERE R.return_date IS NULL"
   ]
  },
  {
   "cell_type": "code",
   "execution_count": 2,
   "metadata": {
    "collapsed": false
   },
   "outputs": [
    {
     "data": {
      "image/png": "hw4 - 1.jpg",
      "text/plain": [
       "<IPython.core.display.Image object>"
      ]
     },
     "execution_count": 2,
     "metadata": {},
     "output_type": "execute_result"
    }
   ],
   "source": [
    "from IPython.display import Image\n",
    "Image('hw4 - 1.jpg')"
   ]
  },
  {
   "cell_type": "markdown",
   "metadata": {},
   "source": [
    "2) Make a list of all customer names who have videos out and how much they owe. (Was calculated based on based on weekly rental rate, without considering late fee)"
   ]
  },
  {
   "cell_type": "code",
   "execution_count": 3,
   "metadata": {
    "collapsed": true
   },
   "outputs": [],
   "source": [
    "# SELECT first_name, last_name, owed\n",
    "# FROM (SELECT customer_id,\n",
    "#        sum(rental_amount) as owed\n",
    "# FROM\n",
    "#   (SELECT customer_id,\n",
    "#           rental_id,\n",
    "#           (rental_rate*days_out/7) AS Rental_amount\n",
    "#    FROM\n",
    "#      (SELECT R.customer_id,\n",
    "#              F.film_id,\n",
    "#              R.rental_id,\n",
    "#              F.rental_duration,\n",
    "#              F.rental_rate,\n",
    "#              R.last_update,\n",
    "#              R.rental_date,\n",
    "#              (R.last_update::date-R.rental_date::date) AS days_out\n",
    "#       FROM rental R,\n",
    "#            inventory I,\n",
    "#            film F\n",
    "#       WHERE R.inventory_id = I.inventory_id\n",
    "#         AND I.film_id = F.film_id\n",
    "#         AND R.return_date IS NULL) T) T2\n",
    "# GROUP BY customer_id) T3, customer C\n",
    "# WHERE C.customer_id = T3.customer_id"
   ]
  },
  {
   "cell_type": "code",
   "execution_count": 4,
   "metadata": {
    "collapsed": false
   },
   "outputs": [
    {
     "data": {
      "image/png": "hw4 - 2.jpg",
      "text/plain": [
       "<IPython.core.display.Image object>"
      ]
     },
     "execution_count": 4,
     "metadata": {},
     "output_type": "execute_result"
    }
   ],
   "source": [
    "Image('hw4 - 2.jpg')"
   ]
  },
  {
   "cell_type": "markdown",
   "metadata": {},
   "source": [
    "5) What hour of the day do people rent the most ?"
   ]
  },
  {
   "cell_type": "code",
   "execution_count": 5,
   "metadata": {
    "collapsed": false
   },
   "outputs": [],
   "source": [
    "# SELECT hour, count(*) as count\n",
    "# FROM (SELECT date_part('hour', rental_date) as hour\n",
    "# FROM rental) T\n",
    "# GROUP BY hour\n",
    "# ORDER BY count desc\n",
    "# LIMIT 1"
   ]
  },
  {
   "cell_type": "code",
   "execution_count": 6,
   "metadata": {
    "collapsed": false
   },
   "outputs": [
    {
     "data": {
      "image/png": "hw4 - 5.jpg",
      "text/plain": [
       "<IPython.core.display.Image object>"
      ]
     },
     "execution_count": 6,
     "metadata": {},
     "output_type": "execute_result"
    }
   ],
   "source": [
    "Image('hw4 - 5.jpg')"
   ]
  },
  {
   "cell_type": "markdown",
   "metadata": {},
   "source": [
    "6) Which store is more profitable, assuming all movies cost $15 per inventory item to purchase."
   ]
  },
  {
   "cell_type": "code",
   "execution_count": 7,
   "metadata": {
    "collapsed": true
   },
   "outputs": [],
   "source": [
    "# SELECT (r.revenues - c.costs) AS profits, r.store_id\n",
    "# FROM\n",
    "#   (SELECT sum(p.amount) AS revenues,\n",
    "#           f.store_id\n",
    "#    FROM payment p,\n",
    "#         staff f\n",
    "#    WHERE p.staff_id = f.staff_id\n",
    "#    GROUP BY f.store_id) r,\n",
    "#   (SELECT count(inventory_id)*15 AS costs,\n",
    "#           store_id\n",
    "#    FROM inventory\n",
    "#    GROUP BY store_id) c\n",
    "# WHERE r.store_id = c.store_id"
   ]
  },
  {
   "cell_type": "code",
   "execution_count": 8,
   "metadata": {
    "collapsed": false
   },
   "outputs": [
    {
     "data": {
      "image/png": "hw4 - 6.jpg",
      "text/plain": [
       "<IPython.core.display.Image object>"
      ]
     },
     "execution_count": 8,
     "metadata": {},
     "output_type": "execute_result"
    }
   ],
   "source": [
    "Image('hw4 - 6.jpg')"
   ]
  },
  {
   "cell_type": "markdown",
   "metadata": {},
   "source": [
    "Store 2 is more profitable because its net loss is less. "
   ]
  }
 ],
 "metadata": {
  "kernelspec": {
   "display_name": "Python 3",
   "language": "python",
   "name": "python3"
  },
  "language_info": {
   "codemirror_mode": {
    "name": "ipython",
    "version": 3
   },
   "file_extension": ".py",
   "mimetype": "text/x-python",
   "name": "python",
   "nbconvert_exporter": "python",
   "pygments_lexer": "ipython3",
   "version": "3.6.0"
  }
 },
 "nbformat": 4,
 "nbformat_minor": 2
}
